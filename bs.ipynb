{
 "cells": [
  {
   "cell_type": "code",
   "execution_count": 1,
   "id": "83e6cc6b",
   "metadata": {},
   "outputs": [
    {
     "name": "stderr",
     "output_type": "stream",
     "text": [
      "/mnt/home/mjhajaria/miniconda3/envs/stan/lib/python3.11/site-packages/tqdm/auto.py:21: TqdmWarning: IProgress not found. Please update jupyter and ipywidgets. See https://ipywidgets.readthedocs.io/en/stable/user_install.html\n",
      "  from .autonotebook import tqdm as notebook_tqdm\n"
     ]
    }
   ],
   "source": [
    "import bridgestan as bs\n",
    "from pathlib import Path\n",
    "import os\n",
    "from utils import *\n",
    "import json\n",
    "import pickle\n",
    "import arviz as az\n",
    "import numpy as np\n",
    "from tqdm import tqdm\n",
    "pkey=1\n",
    "n_repeat=100\n",
    "evaluating_model='DirichletSymmetric'\n",
    "data_file = lambda *, pkey, n_repeat, transform, evaluating_model: f\"/mnt/home/mjhajaria/ceph/sampling_results/simplex/{transform}/{evaluating_model}/samples_{pkey}_{n_repeat}.nc\"\n",
    "stan_filename = lambda *, transform, evaluating_model: f\"stan_models/{transform}_{evaluating_model}.stan\"\n",
    "output_filename = lambda *, transform, evaluating_model, x, pkey: f'output/{transform}/{evaluating_model}/{x}_{pkey}.npy'\n",
    "\n",
    "# with open(f\"target_densities/param_map_{evaluating_model}.pkl\", \"rb\") as f:\n",
    "#     param_map = pickle.load(f)\n",
    "\n",
    "# for i in range(1,10):\n",
    "#     with open(f'utils/dirichletsymmetricdata/data_{i}.json', 'w') as fp:\n",
    "#         json.dump({'alpha':param_map[i], 'N': len(param_map[i])}, fp)\n",
    "\n",
    "\n",
    "# pkeys=[1,2,3,4,5,6,7,8,9]\n",
    "\n",
    "with open(stan_filename, 'w') as f:\n",
    "    f.write(f'#include target_densities/DirichletSymmetric.stan{os.linesep}#include transforms/{transform}.stan{os.linesep}')\n",
    "    f.close()\n",
    "\n",
    "# x = data_file(pkey=pkey, n_repeat=100, \n",
    "#         transform=transform, evaluating_model='DirichletSymmetric')"
   ]
  },
  {
   "cell_type": "code",
   "execution_count": 3,
   "id": "a495245f",
   "metadata": {},
   "outputs": [
    {
     "name": "stdout",
     "output_type": "stream",
     "text": [
      "['y.1', 'y.2', 'y.3', 'y.4', 'y.5', 'y.6', 'y.7', 'y.8', 'y.9']\n",
      "1 9 9\n",
      "['y.1', 'y.2', 'y.3', 'y.4', 'y.5', 'y.6', 'y.7', 'y.8', 'y.9']\n",
      "1 9 9\n",
      "['y.1', 'y.2', 'y.3', 'y.4', 'y.5', 'y.6', 'y.7', 'y.8', 'y.9', 'y.10']\n",
      "1 10 10\n",
      "['y.1', 'y.2', 'y.3', 'y.4', 'y.5', 'y.6', 'y.7', 'y.8', 'y.9']\n",
      "1 9 9\n",
      "['y.1', 'y.2', 'y.3', 'y.4', 'y.5', 'y.6', 'y.7', 'y.8', 'y.9']\n",
      "1 9 9\n",
      "['y.1', 'y.2', 'y.3', 'y.4', 'y.5', 'y.6', 'y.7', 'y.8', 'y.9']\n",
      "1 9 9\n",
      "['y.1', 'y.2', 'y.3', 'y.4', 'y.5', 'y.6', 'y.7', 'y.8', 'y.9']\n",
      "1 9 9\n",
      "['y.1', 'y.2', 'y.3', 'y.4', 'y.5', 'y.6', 'y.7', 'y.8', 'y.9']\n",
      "1 9 9\n"
     ]
    }
   ],
   "source": [
    "for transform in list_transforms():\n",
    "    file=stan_filename(transform=transform, evaluating_model=evaluating_model)\n",
    "    data= f'utils/dirichletsymmetricdata/data_{pkey}.json'\n",
    "    bsmodel = bs.StanModel.from_stan_file(file, data, stanc_args=[f\"--include-paths='/mnt/home/mjhajaria/simplex-transforms/'\"])\n",
    "    n=bsmodel.param_unc_num()\n",
    "    m=bsmodel.param_num()\n",
    "    print(bsmodel.param_names())\n",
    "    print(pkey,m , n)"
   ]
  },
  {
   "cell_type": "code",
   "execution_count": null,
   "id": "a0e59204",
   "metadata": {},
   "outputs": [],
   "source": [
    "idata = az.extract( az.from_netcdf(x).posterior)"
   ]
  },
  {
   "cell_type": "code",
   "execution_count": null,
   "id": "3a4d99db",
   "metadata": {},
   "outputs": [],
   "source": [
    "idata.data_vars.items()"
   ]
  },
  {
   "cell_type": "code",
   "execution_count": null,
   "id": "0f47e7fa",
   "metadata": {},
   "outputs": [],
   "source": [
    "x = az.from_netcdf(x).posterior.x.values\n",
    "data = x.reshape((x.shape[0]*x.shape[1], x.shape[2]))"
   ]
  },
  {
   "cell_type": "code",
   "execution_count": null,
   "id": "e24b718e",
   "metadata": {},
   "outputs": [],
   "source": [
    "az.from_netcdf(x).posterior"
   ]
  },
  {
   "cell_type": "code",
   "execution_count": null,
   "id": "594b99d5",
   "metadata": {},
   "outputs": [],
   "source": [
    "for idx, row in enumerate(data):\n",
    "    theta = bsmodel.param_unconstrain(row)\n",
    "    bsmodel.log_density_hessian(theta, out_grad=grad[idx], out_hess=hessian[idx])\n",
    "np.save(output_filename(transform=transform, evaluating_model=evaluating_model, pkey=pkey, x=\"hessian\"), hessian)\n",
    "np.save(output_filename(transform=transform, evaluating_model=evaluating_model, \n",
    "                        pkey=pkey, x=\"grad\"), grad)"
   ]
  },
  {
   "cell_type": "code",
   "execution_count": null,
   "id": "f194624e",
   "metadata": {},
   "outputs": [],
   "source": []
  }
 ],
 "metadata": {
  "kernelspec": {
   "display_name": "Python 3 (ipykernel)",
   "language": "python",
   "name": "python3"
  },
  "language_info": {
   "codemirror_mode": {
    "name": "ipython",
    "version": 3
   },
   "file_extension": ".py",
   "mimetype": "text/x-python",
   "name": "python",
   "nbconvert_exporter": "python",
   "pygments_lexer": "ipython3",
   "version": "3.11.3"
  }
 },
 "nbformat": 4,
 "nbformat_minor": 5
}
