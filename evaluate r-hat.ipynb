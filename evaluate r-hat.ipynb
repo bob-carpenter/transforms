{
 "cells": [
  {
   "cell_type": "code",
   "execution_count": 1,
   "id": "d221c4a1",
   "metadata": {},
   "outputs": [],
   "source": [
    "import cmdstanpy\n",
    "import pandas as pd\n",
    "import arviz as az\n",
    "import numpy as np\n",
    "import matplotlib.pyplot as plt\n",
    "import xarray as xr\n",
    "import os\n",
    "from cmdstanpy import cmdstan_path, CmdStanModel"
   ]
  },
  {
   "cell_type": "code",
   "execution_count": 2,
   "id": "d826e2a8",
   "metadata": {},
   "outputs": [],
   "source": [
    "az.style.use(\"arviz-darkgrid\")"
   ]
  },
  {
   "cell_type": "code",
   "execution_count": 3,
   "id": "b3cb7044",
   "metadata": {},
   "outputs": [],
   "source": [
    "simplex_stan = os.path.join('transforms/simplex-stan/simplex-stan.stan')\n",
    "simplex_stickbreaking = os.path.join('transforms/simplex-stickbreaking/simplex-stickbreaking.stan')"
   ]
  },
  {
   "cell_type": "code",
   "execution_count": 4,
   "id": "998157ae",
   "metadata": {},
   "outputs": [],
   "source": [
    "def calc_rhat_mixed_chains(path_1, path_2, variables, data, force_compile=False):\n",
    "    \n",
    "    \"\"\"\n",
    "    This function evaluates rhat for 4 chains from 2 different models, as in 2 chains from each.\n",
    "    \n",
    "    Parameters\n",
    "    ----------\n",
    "    \n",
    "    path_1: str\n",
    "        path for the first model\n",
    "        \n",
    "    path_2: str\n",
    "        path for the second model\n",
    "    \n",
    "    variables: list\n",
    "        Variables to evaluate rhat for\n",
    "    \n",
    "    data: dict\n",
    "        Dictionary of data\n",
    "    \n",
    "    force_compile: Bool\n",
    "        Whether to recompile or not\n",
    "    \"\"\"\n",
    "    variables = ' '.join(variables)\n",
    "    #Build stan model\n",
    "    file_1 = os.path.join(path_1)\n",
    "    file_2 = os.path.join(path_2)\n",
    "    model_1 = CmdStanModel(stan_file=file_1, cpp_options={'STAN_THREADS':'true'})\n",
    "    model_2 = CmdStanModel(stan_file=file_2, cpp_options={'STAN_THREADS':'true'})\n",
    "    \n",
    "    #Recompile\n",
    "    if force_compile is True:\n",
    "        model_1.compile(force=True)\n",
    "        model_2.compile(force=True)\n",
    "    \n",
    "    #Fit stan model\n",
    "    fit_1 = model_1.sample(data=dict(K=10))\n",
    "    fit_2 = model_2.sample(data=dict(K=10))\n",
    "    \n",
    "    #Convert to idata for arviz\n",
    "    idata_1 = az.from_cmdstanpy(fit_1)\n",
    "    idata_2 = az.from_cmdstanpy(fit_2)\n",
    "    \n",
    "    #Stack the samples according to chains\n",
    "    stacked_1 = az.extract_dataset(idata_1)\n",
    "    stacked_2 = az.extract_dataset(idata_2)\n",
    "    \n",
    "    #Concatenate chains and evaluate rhat\n",
    "    chains = np.concatenate((stacked_1.sel(chain=1)[str(variables)], stacked_1.sel(chain=2)[str(variables)], stacked_2.sel(chain=1)[str(variables)], stacked_2.sel(chain=2)[str(variables)]), axis=1)\n",
    "    rhat = az.rhat(chains, var_names=variables,method=\"rank\")\n",
    "    return rhat"
   ]
  },
  {
   "cell_type": "code",
   "execution_count": 5,
   "id": "7a285610",
   "metadata": {},
   "outputs": [
    {
     "name": "stderr",
     "output_type": "stream",
     "text": [
      "INFO:cmdstanpy:found newer exe file, not recompiling\n",
      "INFO:cmdstanpy:found newer exe file, not recompiling\n",
      "INFO:cmdstanpy:CmdStan start processing\n"
     ]
    },
    {
     "data": {
      "application/vnd.jupyter.widget-view+json": {
       "model_id": "0e150a0cb35d447aae9657668061ded6",
       "version_major": 2,
       "version_minor": 0
      },
      "text/plain": [
       "chain 1 |          | 00:00 Status"
      ]
     },
     "metadata": {},
     "output_type": "display_data"
    },
    {
     "data": {
      "application/vnd.jupyter.widget-view+json": {
       "model_id": "8b31d8b63f3745c996d2fd84b178770d",
       "version_major": 2,
       "version_minor": 0
      },
      "text/plain": [
       "chain 2 |          | 00:00 Status"
      ]
     },
     "metadata": {},
     "output_type": "display_data"
    },
    {
     "data": {
      "application/vnd.jupyter.widget-view+json": {
       "model_id": "83183fe8dc7d4edda01e79f72ec18daf",
       "version_major": 2,
       "version_minor": 0
      },
      "text/plain": [
       "chain 3 |          | 00:00 Status"
      ]
     },
     "metadata": {},
     "output_type": "display_data"
    },
    {
     "data": {
      "application/vnd.jupyter.widget-view+json": {
       "model_id": "d46d79426da94039933a7801f92e719a",
       "version_major": 2,
       "version_minor": 0
      },
      "text/plain": [
       "chain 4 |          | 00:00 Status"
      ]
     },
     "metadata": {},
     "output_type": "display_data"
    },
    {
     "name": "stdout",
     "output_type": "stream",
     "text": [
      "                                                                                                                                                                                                                                                                                                                                "
     ]
    },
    {
     "name": "stderr",
     "output_type": "stream",
     "text": [
      "INFO:cmdstanpy:CmdStan done processing.\n",
      "INFO:cmdstanpy:CmdStan start processing\n"
     ]
    },
    {
     "name": "stdout",
     "output_type": "stream",
     "text": [
      "\n"
     ]
    },
    {
     "data": {
      "application/vnd.jupyter.widget-view+json": {
       "model_id": "b5483423d734468eb52c54ae020d969f",
       "version_major": 2,
       "version_minor": 0
      },
      "text/plain": [
       "chain 1 |          | 00:00 Status"
      ]
     },
     "metadata": {},
     "output_type": "display_data"
    },
    {
     "data": {
      "application/vnd.jupyter.widget-view+json": {
       "model_id": "05f4eaa80109489fb786bbec18288fae",
       "version_major": 2,
       "version_minor": 0
      },
      "text/plain": [
       "chain 2 |          | 00:00 Status"
      ]
     },
     "metadata": {},
     "output_type": "display_data"
    },
    {
     "data": {
      "application/vnd.jupyter.widget-view+json": {
       "model_id": "4b327f0c26844489addf714566c69621",
       "version_major": 2,
       "version_minor": 0
      },
      "text/plain": [
       "chain 3 |          | 00:00 Status"
      ]
     },
     "metadata": {},
     "output_type": "display_data"
    },
    {
     "data": {
      "application/vnd.jupyter.widget-view+json": {
       "model_id": "4466cd26f61a4b30b4f67c38e846043c",
       "version_major": 2,
       "version_minor": 0
      },
      "text/plain": [
       "chain 4 |          | 00:00 Status"
      ]
     },
     "metadata": {},
     "output_type": "display_data"
    },
    {
     "name": "stdout",
     "output_type": "stream",
     "text": [
      "                                                                                                                                                                                                                                                                                                                                "
     ]
    },
    {
     "name": "stderr",
     "output_type": "stream",
     "text": [
      "INFO:cmdstanpy:CmdStan done processing.\n"
     ]
    },
    {
     "name": "stdout",
     "output_type": "stream",
     "text": [
      "\n"
     ]
    },
    {
     "data": {
      "text/plain": [
       "1.000112883381856"
      ]
     },
     "execution_count": 5,
     "metadata": {},
     "output_type": "execute_result"
    }
   ],
   "source": [
    "calc_rhat_mixed_chains(path_1=simplex_stan,\n",
    "                       path_2=simplex_stan,\n",
    "                       variables=[\"x\"],\n",
    "                       data=dict(K=10))"
   ]
  },
  {
   "cell_type": "code",
   "execution_count": null,
   "id": "46478315",
   "metadata": {},
   "outputs": [],
   "source": []
  }
 ],
 "metadata": {
  "_draft": {
   "nbviewer_url": "https://gist.github.com/e19c879190fc519eb491b4faf21ff666"
  },
  "gist": {
   "data": {
    "description": "simplex.ipynb",
    "public": true
   },
   "id": "e19c879190fc519eb491b4faf21ff666"
  },
  "kernelspec": {
   "display_name": "Python 3 (ipykernel)",
   "language": "python",
   "name": "python3"
  },
  "language_info": {
   "codemirror_mode": {
    "name": "ipython",
    "version": 3
   },
   "file_extension": ".py",
   "mimetype": "text/x-python",
   "name": "python",
   "nbconvert_exporter": "python",
   "pygments_lexer": "ipython3",
   "version": "3.10.4"
  }
 },
 "nbformat": 4,
 "nbformat_minor": 5
}
