{
 "cells": [
  {
   "cell_type": "code",
   "execution_count": 75,
   "id": "1aab27b4",
   "metadata": {},
   "outputs": [],
   "source": [
    "import jax.numpy as jnp\n",
    "import jax\n",
    "from tensorflow_probability.substrates import jax as tfp\n",
    "from functools import partial\n",
    "import matplotlib.pyplot as plt\n",
    "from jax.config import config\n",
    "import numpy as onp\n",
    "config.update(\"jax_enable_x64\", True)\n",
    "\n",
    "tfd = tfp.distributions\n",
    "tfb = tfp.bijectors\n",
    "tfpk = tfp.math.psd_kernels"
   ]
  },
  {
   "cell_type": "code",
   "execution_count": 76,
   "id": "21b4eec4",
   "metadata": {},
   "outputs": [],
   "source": [
    "K = 5\n",
    "eta = 2.5\n",
    "zeros = jnp.zeros((K * (K - 1))//2)"
   ]
  },
  {
   "cell_type": "code",
   "execution_count": 77,
   "id": "fd2d0359",
   "metadata": {},
   "outputs": [],
   "source": [
    "@partial(jax.jit, static_argnames=['K'])\n",
    "def tfp_transform(y, K):\n",
    "    L = jnp.eye(K);\n",
    "    log_det_jacobian = 0;\n",
    "    counter = 0\n",
    "    for i in range(1, K):\n",
    "        for j in range(i):\n",
    "            L = L.at[i, j].set(y[counter])\n",
    "            counter += 1;\n",
    "        s = jnp.linalg.norm(L[i])\n",
    "        L = L.at[i].set(L[i] / s)\n",
    "        log_det_jacobian -= (i + 2) * jnp.log(s)\n",
    "    return L, log_det_jacobian"
   ]
  },
  {
   "cell_type": "code",
   "execution_count": 78,
   "id": "6b7be15d",
   "metadata": {},
   "outputs": [],
   "source": [
    "@partial(jax.jit, static_argnames=['K'])\n",
    "def stan_transform(y, K):\n",
    "    L = jnp.eye(K);\n",
    "    z = jnp.tanh(y)\n",
    "    log_det_jacobian = jnp.sum(jnp.log(1-jnp.square(z)))\n",
    "    counter = 0\n",
    "    for i in range(1, K):\n",
    "        L = L.at[i, 0].set(z[counter])\n",
    "        counter += 1\n",
    "        sum_sqs = L[i, 0] ** 2\n",
    "        for j in range(1,i):\n",
    "            log_det_jacobian += 0.5 * jnp.log(1-sum_sqs)\n",
    "            L = L.at[i, j].set(z[counter] * jnp.sqrt( 1 - sum_sqs))\n",
    "            counter += 1\n",
    "            sum_sqs = sum_sqs + jnp.square(L[i, j]);\n",
    "        L = L.at[i, i].set(jnp.sqrt(1 - sum_sqs))\n",
    "    return L, log_det_jacobian"
   ]
  },
  {
   "cell_type": "code",
   "execution_count": 79,
   "id": "25dda7df",
   "metadata": {},
   "outputs": [],
   "source": [
    "@partial(jax.jit, static_argnames=['K'])\n",
    "def lp_tfp(y, eta, K):\n",
    "    L, log_det_jacobian = tfp_transform(y, K)\n",
    "    return log_det_jacobian + tfd.CholeskyLKJ(K, eta.astype(jnp.float64)).log_prob(L)"
   ]
  },
  {
   "cell_type": "code",
   "execution_count": 80,
   "id": "730b265b",
   "metadata": {},
   "outputs": [],
   "source": [
    "@partial(jax.jit, static_argnames=['K'])\n",
    "def lp_stan(y, eta, K):\n",
    "    L, log_det_jacobian = stan_transform(y, K)\n",
    "    return log_det_jacobian + tfd.CholeskyLKJ(K, eta.astype(jnp.float64)).log_prob(L)"
   ]
  },
  {
   "cell_type": "markdown",
   "id": "6f799548",
   "metadata": {},
   "source": [
    "Both Hessians are negative-definite, but TFP's version is \"isotropic\" in unconstrained space whereas Stan's version is not (isotropic in the sense that all directions have the same second derivative, i.e. \"symmetric\" curvature at the mode):"
   ]
  },
  {
   "cell_type": "code",
   "execution_count": 81,
   "id": "15c4fe0c",
   "metadata": {},
   "outputs": [
    {
     "data": {
      "text/plain": [
       "DeviceArray([[-9.,  0.,  0.,  0.,  0.,  0.,  0.,  0.,  0.,  0.],\n",
       "             [ 0., -9.,  0.,  0.,  0.,  0.,  0.,  0.,  0.,  0.],\n",
       "             [ 0.,  0., -9.,  0.,  0.,  0.,  0.,  0.,  0.,  0.],\n",
       "             [ 0.,  0.,  0., -9.,  0.,  0.,  0.,  0.,  0.,  0.],\n",
       "             [ 0.,  0.,  0.,  0., -9.,  0.,  0.,  0.,  0.,  0.],\n",
       "             [ 0.,  0.,  0.,  0.,  0., -9.,  0.,  0.,  0.,  0.],\n",
       "             [ 0.,  0.,  0.,  0.,  0.,  0., -9.,  0.,  0.,  0.],\n",
       "             [ 0.,  0.,  0.,  0.,  0.,  0.,  0., -9.,  0.,  0.],\n",
       "             [ 0.,  0.,  0.,  0.,  0.,  0.,  0.,  0., -9.,  0.],\n",
       "             [ 0.,  0.,  0.,  0.,  0.,  0.,  0.,  0.,  0., -9.]],            dtype=float64)"
      ]
     },
     "execution_count": 81,
     "metadata": {},
     "output_type": "execute_result"
    }
   ],
   "source": [
    "jax.hessian(lp_tfp)(zeros, eta, K)"
   ]
  },
  {
   "cell_type": "code",
   "execution_count": 82,
   "id": "992b4f06",
   "metadata": {},
   "outputs": [
    {
     "data": {
      "text/plain": [
       "DeviceArray([[-8.,  0.,  0.,  0.,  0.,  0.,  0.,  0.,  0.,  0.],\n",
       "             [ 0., -8.,  0.,  0.,  0.,  0.,  0.,  0.,  0.,  0.],\n",
       "             [ 0.,  0., -7.,  0.,  0.,  0.,  0.,  0.,  0.,  0.],\n",
       "             [ 0.,  0.,  0., -8.,  0.,  0.,  0.,  0.,  0.,  0.],\n",
       "             [ 0.,  0.,  0.,  0., -7.,  0.,  0.,  0.,  0.,  0.],\n",
       "             [ 0.,  0.,  0.,  0.,  0., -6.,  0.,  0.,  0.,  0.],\n",
       "             [ 0.,  0.,  0.,  0.,  0.,  0., -8.,  0.,  0.,  0.],\n",
       "             [ 0.,  0.,  0.,  0.,  0.,  0.,  0., -7.,  0.,  0.],\n",
       "             [ 0.,  0.,  0.,  0.,  0.,  0.,  0.,  0., -6.,  0.],\n",
       "             [ 0.,  0.,  0.,  0.,  0.,  0.,  0.,  0.,  0., -5.]],            dtype=float64)"
      ]
     },
     "execution_count": 82,
     "metadata": {},
     "output_type": "execute_result"
    }
   ],
   "source": [
    "jax.hessian(lp_stan)(zeros, eta, K)"
   ]
  },
  {
   "cell_type": "markdown",
   "id": "554e089f",
   "metadata": {},
   "source": [
    "We now move to K=3 where its easier to compute the probabilities on a grid, here using a grid of 200 points from -5 to 5 on all three axes:"
   ]
  },
  {
   "cell_type": "code",
   "execution_count": 83,
   "id": "aa4e560b",
   "metadata": {},
   "outputs": [],
   "source": [
    "K = 3\n",
    "lb = -5\n",
    "ub = 5\n",
    "diff = ub - lb\n",
    "n_points = 200"
   ]
  },
  {
   "cell_type": "code",
   "execution_count": 84,
   "id": "3676c6a4",
   "metadata": {},
   "outputs": [],
   "source": [
    "t = jnp.linspace(lb,ub,num=n_points)\n",
    "res_tfp = jax.vmap(\n",
    "    jax.vmap(\n",
    "        jax.vmap(\n",
    "            lambda x,y,z : lp_tfp(jnp.array([x,y,z]), eta, K), in_axes=(0,None,None)),\n",
    "        in_axes=(None,0,None)),\n",
    "    in_axes=(None,None,0))(t,t,t)"
   ]
  },
  {
   "cell_type": "code",
   "execution_count": 85,
   "id": "a37149b4",
   "metadata": {},
   "outputs": [],
   "source": [
    "res_stan = jax.vmap(\n",
    "    jax.vmap(\n",
    "        jax.vmap(\n",
    "            lambda x,y,z : lp_stan(jnp.array([x,y,z]), eta, K), in_axes=(0,None,None)),\n",
    "        in_axes=(None,0,None)),\n",
    "    in_axes=(None,None,0))(t,t,t)"
   ]
  },
  {
   "cell_type": "markdown",
   "id": "90354e4e",
   "metadata": {},
   "source": [
    "This volume contains ~98% of the probability density for both transforms:"
   ]
  },
  {
   "cell_type": "code",
   "execution_count": 86,
   "id": "f2445e73",
   "metadata": {},
   "outputs": [
    {
     "data": {
      "text/plain": [
       "DeviceArray(0.98487558, dtype=float64)"
      ]
     },
     "execution_count": 86,
     "metadata": {},
     "output_type": "execute_result"
    }
   ],
   "source": [
    "(((ub-lb)/n_points)**3*jnp.exp(res_tfp)).sum()"
   ]
  },
  {
   "cell_type": "code",
   "execution_count": 87,
   "id": "2a82c315",
   "metadata": {},
   "outputs": [
    {
     "data": {
      "text/plain": [
       "DeviceArray(0.98507487, dtype=float64)"
      ]
     },
     "execution_count": 87,
     "metadata": {},
     "output_type": "execute_result"
    }
   ],
   "source": [
    "(((ub-lb)/n_points)**3*jnp.exp(res_stan)).sum()"
   ]
  },
  {
   "cell_type": "markdown",
   "id": "430ba1e9",
   "metadata": {},
   "source": [
    "# norm of gradient"
   ]
  },
  {
   "cell_type": "code",
   "execution_count": 88,
   "id": "210b2ea6",
   "metadata": {},
   "outputs": [],
   "source": [
    "t = jnp.linspace(lb,ub,num=n_points)\n",
    "grad_norm_tfp = jax.vmap(\n",
    "    jax.vmap(\n",
    "        jax.vmap(\n",
    "            lambda x,y,z : jnp.linalg.norm(jax.grad(lp_tfp)(jnp.array([x,y,z]), eta, K)), in_axes=(0,None,None)),\n",
    "        in_axes=(None,0,None)),\n",
    "    in_axes=(None,None,0))(t,t,t)"
   ]
  },
  {
   "cell_type": "code",
   "execution_count": 89,
   "id": "3ea42b7e",
   "metadata": {},
   "outputs": [],
   "source": [
    "t = jnp.linspace(lb,ub,num=n_points)\n",
    "grad_norm_stan = jax.vmap(\n",
    "    jax.vmap(\n",
    "        jax.vmap(\n",
    "            lambda x,y,z : jnp.linalg.norm(jax.grad(lp_stan)(jnp.array([x,y,z]), eta, K)), in_axes=(0,None,None)),\n",
    "        in_axes=(None,0,None)),\n",
    "    in_axes=(None,None,0))(t,t,t)"
   ]
  },
  {
   "cell_type": "markdown",
   "id": "ec067a9b",
   "metadata": {},
   "source": [
    "# hessian condition number"
   ]
  },
  {
   "cell_type": "code",
   "execution_count": 90,
   "id": "1b7a7606",
   "metadata": {},
   "outputs": [],
   "source": [
    "t = jnp.linspace(lb,ub,num=n_points)\n",
    "hess_cond_tfp = jax.vmap(\n",
    "    jax.vmap(\n",
    "        jax.vmap(\n",
    "            lambda x,y,z : jnp.linalg.cond(jax.hessian(lp_tfp)(jnp.array([x,y,z]), eta, K)), in_axes=(0,None,None)),\n",
    "        in_axes=(None,0,None)),\n",
    "    in_axes=(None,None,0))(t,t,t)"
   ]
  },
  {
   "cell_type": "code",
   "execution_count": 91,
   "id": "f87e57c1",
   "metadata": {},
   "outputs": [],
   "source": [
    "t = jnp.linspace(lb,ub,num=n_points)\n",
    "hess_cond_stan = jax.vmap(\n",
    "    jax.vmap(\n",
    "        jax.vmap(\n",
    "            lambda x,y,z : jnp.linalg.cond(jax.hessian(lp_stan)(jnp.array([x,y,z]), eta, K)), in_axes=(0,None,None)),\n",
    "        in_axes=(None,0,None)),\n",
    "    in_axes=(None,None,0))(t,t,t)"
   ]
  },
  {
   "cell_type": "markdown",
   "id": "78201796",
   "metadata": {},
   "source": [
    "stan's grad is generally 3 times larger in this volume:"
   ]
  },
  {
   "cell_type": "code",
   "execution_count": 92,
   "id": "027ccd58",
   "metadata": {},
   "outputs": [
    {
     "data": {
      "text/plain": [
       "(DeviceArray(2.98259064, dtype=float64),\n",
       " DeviceArray(3.12826176, dtype=float64))"
      ]
     },
     "execution_count": 92,
     "metadata": {},
     "output_type": "execute_result"
    }
   ],
   "source": [
    "jnp.median(grad_norm_stan/grad_norm_tfp), jnp.mean(grad_norm_stan/grad_norm_tfp)"
   ]
  },
  {
   "cell_type": "markdown",
   "id": "b07a2731",
   "metadata": {},
   "source": [
    "and the median of the ratio of hessian condition numbers is ~40 times larger (the distribution is quite skewed):"
   ]
  },
  {
   "cell_type": "code",
   "execution_count": 93,
   "id": "952d390c",
   "metadata": {},
   "outputs": [
    {
     "data": {
      "text/plain": [
       "(DeviceArray(39.44971372, dtype=float64),\n",
       " DeviceArray(186.42597119, dtype=float64))"
      ]
     },
     "execution_count": 93,
     "metadata": {},
     "output_type": "execute_result"
    }
   ],
   "source": [
    "jnp.median(hess_cond_stan/hess_cond_tfp), jnp.mean(hess_cond_stan/hess_cond_tfp)"
   ]
  },
  {
   "cell_type": "markdown",
   "id": "a74f8345",
   "metadata": {},
   "source": [
    "in almost all \"cubes\" in this volume, stan's version assigns smaller probabilty; the places where stan's probability is higher are concentrated near the mode (again, un-isotropically) "
   ]
  },
  {
   "cell_type": "code",
   "execution_count": 101,
   "id": "969ece08",
   "metadata": {},
   "outputs": [],
   "source": [
    "zeros = jnp.zeros((K * (K - 1))//2)"
   ]
  },
  {
   "cell_type": "code",
   "execution_count": 102,
   "id": "5e625662",
   "metadata": {},
   "outputs": [
    {
     "data": {
      "text/plain": [
       "DeviceArray(0.02308517, dtype=float64)"
      ]
     },
     "execution_count": 102,
     "metadata": {},
     "output_type": "execute_result"
    }
   ],
   "source": [
    "prob_ratio = jnp.exp(res_stan)/jnp.exp(res_tfp)\n",
    "prob_ratio.mean()"
   ]
  },
  {
   "cell_type": "code",
   "execution_count": 103,
   "id": "07f44eba",
   "metadata": {},
   "outputs": [
    {
     "data": {
      "text/plain": [
       "(DeviceArray([ 72,  72,  72, ..., 127, 127, 127], dtype=int64),\n",
       " DeviceArray([ 97,  97,  97, ..., 102, 102, 102], dtype=int64),\n",
       " DeviceArray([ 87,  88,  89, ..., 110, 111, 112], dtype=int64))"
      ]
     },
     "execution_count": 103,
     "metadata": {},
     "output_type": "execute_result"
    }
   ],
   "source": [
    "jnp.where(prob_ratio>1)"
   ]
  }
 ],
 "metadata": {
  "kernelspec": {
   "display_name": "Python 3 (ipykernel)",
   "language": "python",
   "name": "python3"
  },
  "language_info": {
   "codemirror_mode": {
    "name": "ipython",
    "version": 3
   },
   "file_extension": ".py",
   "mimetype": "text/x-python",
   "name": "python",
   "nbconvert_exporter": "python",
   "pygments_lexer": "ipython3",
   "version": "3.9.5"
  }
 },
 "nbformat": 4,
 "nbformat_minor": 5
}
