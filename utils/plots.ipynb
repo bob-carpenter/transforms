{
 "cells": [
  {
   "cell_type": "code",
   "execution_count": null,
   "id": "84116e7a",
   "metadata": {},
   "outputs": [],
   "source": [
    "import os\n",
    "os.chdir('..')"
   ]
  },
  {
   "cell_type": "code",
   "execution_count": null,
   "id": "fc87200a",
   "metadata": {},
   "outputs": [],
   "source": [
    "from utils import sample, retrieve, cumulative_mean, rmse\n",
    "from dirichlet_symmetric_utils import get_dirichlet_symmetric_rmse, get_dirichlet_symmetric_params\n",
    "import pickle\n",
    "import numpy as np\n",
    "import matplotlib.pyplot as plt"
   ]
  },
  {
   "cell_type": "code",
   "execution_count": null,
   "id": "0d8439bf",
   "metadata": {
    "scrolled": true
   },
   "outputs": [],
   "source": [
    "# sample(transform_category=\"simplex\", transform=\"stan\", evaluating_model=\"dirichlet_symmetric\", \n",
    "#        parameters={}, auto_eval_all_params=True,  n_iter = 1000, n_chains = 4, n_repeat = 2)"
   ]
  },
  {
   "cell_type": "code",
   "execution_count": null,
   "id": "670c23e3",
   "metadata": {},
   "outputs": [],
   "source": [
    "# transforms = ['stan', 'stickbreaking', 'softmax', 'softmax-augmented']\n",
    "# for transform in transforms:\n",
    "#     sample(transform_category=\"simplex\", transform=transform, evaluating_model=\"dirichlet_symmetric\", \n",
    "#            parameters={}, auto_eval_all_params=True, n_iter = 1000, n_chains = 4, n_repeat = 100)"
   ]
  },
  {
   "cell_type": "code",
   "execution_count": null,
   "id": "ed707910",
   "metadata": {},
   "outputs": [],
   "source": [
    "# plt.rcParams[\"figure.figsize\"] = (20,10)\n",
    "\n",
    "# fig, axes = plt.subplots(3,3)\n",
    "\n",
    "# fig.supxlabel('Cumulative Leapfrog Steps')\n",
    "# fig.supylabel('Root Mean Squared Error')\n",
    "\n",
    "# for ax, params in zip(axes.flatten(),  get_dirichlet_symmetric_params()):\n",
    "#     for transform in transforms:\n",
    "#         x, y = get_dirichlet_symmetric_rmse(transform, params)\n",
    "#         ax.plot(x,y, label = str(transform))\n",
    "#     ax.set_title(f'alpha={params[\"alpha\"][0]}, K={params[\"K\"]}')\n",
    "\n",
    "# fig.legend(labels=transforms,bbox_to_anchor = (0.6, -0.05));\n",
    "# fig.savefig(str('figure.png'))"
   ]
  }
 ],
 "metadata": {
  "_draft": {
   "nbviewer_url": "https://gist.github.com/8bc199c091f735b999e4ea136004cf76"
  },
  "gist": {
   "data": {
    "description": "cmdstan/transforms/plots.ipynb",
    "public": false
   },
   "id": "8bc199c091f735b999e4ea136004cf76"
  },
  "kernelspec": {
   "display_name": "Python 3 (ipykernel)",
   "language": "python",
   "name": "python3"
  },
  "language_info": {
   "codemirror_mode": {
    "name": "ipython",
    "version": 3
   },
   "file_extension": ".py",
   "mimetype": "text/x-python",
   "name": "python",
   "nbconvert_exporter": "python",
   "pygments_lexer": "ipython3",
   "version": "3.10.4"
  }
 },
 "nbformat": 4,
 "nbformat_minor": 5
}
